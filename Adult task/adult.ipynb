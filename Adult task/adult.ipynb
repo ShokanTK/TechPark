{
 "cells": [
  {
   "cell_type": "code",
   "execution_count": 51,
   "metadata": {
    "collapsed": false
   },
   "outputs": [],
   "source": [
    "import requests\n",
    "import pandas as pd\n",
    "import seaborn as sns\n",
    "import matplotlib.pyplot as plt\n",
    "import numpy as np\n",
    "%matplotlib inline"
   ]
  },
  {
   "cell_type": "code",
   "execution_count": 2,
   "metadata": {
    "collapsed": true
   },
   "outputs": [],
   "source": [
    "import os"
   ]
  },
  {
   "cell_type": "code",
   "execution_count": 6,
   "metadata": {
    "collapsed": true
   },
   "outputs": [],
   "source": [
    "CENSUS_DATASET = (\n",
    "    \"http://archive.ics.uci.edu/ml/machine-learning-databases/adult/adult.data\",\n",
    "    \"http://archive.ics.uci.edu/ml/machine-learning-databases/adult/adult.test\",\n",
    ")"
   ]
  },
  {
   "cell_type": "code",
   "execution_count": 8,
   "metadata": {
    "collapsed": true
   },
   "outputs": [],
   "source": [
    "def download_data(path='data', urls=CENSUS_DATASET):\n",
    "    if not os.path.exists(path):\n",
    "        os.mkdir(path)\n",
    "\n",
    "    for url in urls:\n",
    "        response = requests.get(url)\n",
    "        name = os.path.basename(url)\n",
    "        with open(os.path.join(path, name), 'w') as f:\n",
    "            f.write(response.content)"
   ]
  },
  {
   "cell_type": "code",
   "execution_count": 9,
   "metadata": {
    "collapsed": true
   },
   "outputs": [],
   "source": [
    "download_data()"
   ]
  },
  {
   "cell_type": "code",
   "execution_count": 3,
   "metadata": {
    "collapsed": true
   },
   "outputs": [],
   "source": [
    "cols = ['age', 'workclass', 'fnlwgt', 'education', 'educational-num', \n",
    "        'marital-status', 'occupation', 'relationship', 'race', 'gender', \n",
    "        'capital-gain', 'capital-loss', 'hours-per-week', 'native-country', 'income']"
   ]
  },
  {
   "cell_type": "code",
   "execution_count": 4,
   "metadata": {
    "collapsed": false
   },
   "outputs": [],
   "source": [
    "df_train = pd.read_csv('data/adult.data', sep=\",\", names = cols)\n",
    "df_test = pd.read_csv('data/adult.test', sep=\",\", names = cols)"
   ]
  },
  {
   "cell_type": "code",
   "execution_count": 5,
   "metadata": {
    "collapsed": true
   },
   "outputs": [],
   "source": [
    "df_test.loc[df_test.income == ' <=50K.', ['income']] = '<=50K'\n",
    "df_test.loc[df_test.income == ' >50K.', ['income']] = '>50K'\n",
    "df_train.loc[df_train.income == ' <=50K', ['income']] = '<=50K'\n",
    "df_train.loc[df_train.income == ' >50K', ['income']] = '>50K'"
   ]
  },
  {
   "cell_type": "code",
   "execution_count": 6,
   "metadata": {
    "collapsed": false,
    "scrolled": true
   },
   "outputs": [],
   "source": [
    "data = pd.concat((df_train, df_test), axis=0)"
   ]
  },
  {
   "cell_type": "code",
   "execution_count": 39,
   "metadata": {
    "collapsed": false
   },
   "outputs": [
    {
     "name": "stdout",
     "output_type": "stream",
     "text": [
      "['workclass', 'education', 'marital-status', 'occupation', 'relationship', 'race', 'gender', 'native-country', 'income']\n",
      "['age', 'fnlwgt', 'educational-num', 'capital-gain', 'capital-loss', 'hours-per-week']\n"
     ]
    }
   ],
   "source": [
    "categorical_columns = [x for x in data.columns if data[x].dtype.name == 'object']\n",
    "numerical_columns = [x for x in data.columns if data[x].dtype.name != 'object']\n",
    "print categorical_columns\n",
    "print numerical_columns"
   ]
  },
  {
   "cell_type": "code",
   "execution_count": 9,
   "metadata": {
    "collapsed": true
   },
   "outputs": [],
   "source": [
    "data = data[data['workclass'] != ' ?']\n",
    "data = data[data['occupation'] != ' ?']\n",
    "data = data[data['native-country'] != ' ?']"
   ]
  },
  {
   "cell_type": "code",
   "execution_count": 10,
   "metadata": {
    "collapsed": false
   },
   "outputs": [
    {
     "name": "stdout",
     "output_type": "stream",
     "text": [
      "[' State-gov' ' Self-emp-not-inc' ' Private' ' Federal-gov' ' Local-gov'\n",
      " ' Self-emp-inc' ' Without-pay']\n",
      "[' Bachelors' ' HS-grad' ' 11th' ' Masters' ' 9th' ' Some-college'\n",
      " ' Assoc-acdm' ' 7th-8th' ' Doctorate' ' Assoc-voc' ' Prof-school'\n",
      " ' 5th-6th' ' 10th' ' Preschool' ' 12th' ' 1st-4th']\n",
      "[' Never-married' ' Married-civ-spouse' ' Divorced'\n",
      " ' Married-spouse-absent' ' Separated' ' Married-AF-spouse' ' Widowed']\n",
      "[' Adm-clerical' ' Exec-managerial' ' Handlers-cleaners' ' Prof-specialty'\n",
      " ' Other-service' ' Sales' ' Transport-moving' ' Farming-fishing'\n",
      " ' Machine-op-inspct' ' Tech-support' ' Craft-repair' ' Protective-serv'\n",
      " ' Armed-Forces' ' Priv-house-serv']\n",
      "[' Not-in-family' ' Husband' ' Wife' ' Own-child' ' Unmarried'\n",
      " ' Other-relative']\n",
      "[' White' ' Black' ' Asian-Pac-Islander' ' Amer-Indian-Eskimo' ' Other']\n",
      "[' Male' ' Female']\n",
      "[' United-States' ' Cuba' ' Jamaica' ' India' ' Mexico' ' Puerto-Rico'\n",
      " ' Honduras' ' England' ' Canada' ' Germany' ' Iran' ' Philippines'\n",
      " ' Poland' ' Columbia' ' Cambodia' ' Thailand' ' Ecuador' ' Laos' ' Taiwan'\n",
      " ' Haiti' ' Portugal' ' Dominican-Republic' ' El-Salvador' ' France'\n",
      " ' Guatemala' ' Italy' ' China' ' South' ' Japan' ' Yugoslavia' ' Peru'\n",
      " ' Outlying-US(Guam-USVI-etc)' ' Scotland' ' Trinadad&Tobago' ' Greece'\n",
      " ' Nicaragua' ' Vietnam' ' Hong' ' Ireland' ' Hungary'\n",
      " ' Holand-Netherlands']\n",
      "['<=50K' '>50K']\n"
     ]
    }
   ],
   "source": [
    "for x in categorical_columns:\n",
    "    print data[x].unique()"
   ]
  },
  {
   "cell_type": "code",
   "execution_count": 40,
   "metadata": {
    "collapsed": false
   },
   "outputs": [
    {
     "data": {
      "text/html": [
       "<div>\n",
       "<table border=\"1\" class=\"dataframe\">\n",
       "  <thead>\n",
       "    <tr style=\"text-align: right;\">\n",
       "      <th></th>\n",
       "      <th>age</th>\n",
       "      <th>fnlwgt</th>\n",
       "      <th>educational-num</th>\n",
       "      <th>capital-gain</th>\n",
       "      <th>capital-loss</th>\n",
       "      <th>hours-per-week</th>\n",
       "    </tr>\n",
       "  </thead>\n",
       "  <tbody>\n",
       "    <tr>\n",
       "      <th>count</th>\n",
       "      <td>45222.000000</td>\n",
       "      <td>4.522200e+04</td>\n",
       "      <td>45222.000000</td>\n",
       "      <td>45222.000000</td>\n",
       "      <td>45222.000000</td>\n",
       "      <td>45222.000000</td>\n",
       "    </tr>\n",
       "    <tr>\n",
       "      <th>mean</th>\n",
       "      <td>38.547941</td>\n",
       "      <td>1.897347e+05</td>\n",
       "      <td>10.118460</td>\n",
       "      <td>1101.430344</td>\n",
       "      <td>88.595418</td>\n",
       "      <td>40.938017</td>\n",
       "    </tr>\n",
       "    <tr>\n",
       "      <th>std</th>\n",
       "      <td>13.217870</td>\n",
       "      <td>1.056392e+05</td>\n",
       "      <td>2.552881</td>\n",
       "      <td>7506.430084</td>\n",
       "      <td>404.956092</td>\n",
       "      <td>12.007508</td>\n",
       "    </tr>\n",
       "    <tr>\n",
       "      <th>min</th>\n",
       "      <td>17.000000</td>\n",
       "      <td>1.349200e+04</td>\n",
       "      <td>1.000000</td>\n",
       "      <td>0.000000</td>\n",
       "      <td>0.000000</td>\n",
       "      <td>1.000000</td>\n",
       "    </tr>\n",
       "    <tr>\n",
       "      <th>25%</th>\n",
       "      <td>28.000000</td>\n",
       "      <td>1.173882e+05</td>\n",
       "      <td>9.000000</td>\n",
       "      <td>0.000000</td>\n",
       "      <td>0.000000</td>\n",
       "      <td>40.000000</td>\n",
       "    </tr>\n",
       "    <tr>\n",
       "      <th>50%</th>\n",
       "      <td>37.000000</td>\n",
       "      <td>1.783160e+05</td>\n",
       "      <td>10.000000</td>\n",
       "      <td>0.000000</td>\n",
       "      <td>0.000000</td>\n",
       "      <td>40.000000</td>\n",
       "    </tr>\n",
       "    <tr>\n",
       "      <th>75%</th>\n",
       "      <td>47.000000</td>\n",
       "      <td>2.379260e+05</td>\n",
       "      <td>13.000000</td>\n",
       "      <td>0.000000</td>\n",
       "      <td>0.000000</td>\n",
       "      <td>45.000000</td>\n",
       "    </tr>\n",
       "    <tr>\n",
       "      <th>max</th>\n",
       "      <td>90.000000</td>\n",
       "      <td>1.490400e+06</td>\n",
       "      <td>16.000000</td>\n",
       "      <td>99999.000000</td>\n",
       "      <td>4356.000000</td>\n",
       "      <td>99.000000</td>\n",
       "    </tr>\n",
       "  </tbody>\n",
       "</table>\n",
       "</div>"
      ],
      "text/plain": [
       "                age        fnlwgt  educational-num  capital-gain  \\\n",
       "count  45222.000000  4.522200e+04     45222.000000  45222.000000   \n",
       "mean      38.547941  1.897347e+05        10.118460   1101.430344   \n",
       "std       13.217870  1.056392e+05         2.552881   7506.430084   \n",
       "min       17.000000  1.349200e+04         1.000000      0.000000   \n",
       "25%       28.000000  1.173882e+05         9.000000      0.000000   \n",
       "50%       37.000000  1.783160e+05        10.000000      0.000000   \n",
       "75%       47.000000  2.379260e+05        13.000000      0.000000   \n",
       "max       90.000000  1.490400e+06        16.000000  99999.000000   \n",
       "\n",
       "       capital-loss  hours-per-week  \n",
       "count  45222.000000    45222.000000  \n",
       "mean      88.595418       40.938017  \n",
       "std      404.956092       12.007508  \n",
       "min        0.000000        1.000000  \n",
       "25%        0.000000       40.000000  \n",
       "50%        0.000000       40.000000  \n",
       "75%        0.000000       45.000000  \n",
       "max     4356.000000       99.000000  "
      ]
     },
     "execution_count": 40,
     "metadata": {},
     "output_type": "execute_result"
    }
   ],
   "source": [
    "data.describe()"
   ]
  },
  {
   "cell_type": "code",
   "execution_count": 45,
   "metadata": {
    "collapsed": false
   },
   "outputs": [
    {
     "data": {
      "text/plain": [
       "<matplotlib.legend.Legend at 0xa98b414c>"
      ]
     },
     "execution_count": 45,
     "metadata": {},
     "output_type": "execute_result"
    },
    {
     "data": {
      "image/png": "[encoded data removed]",
      "text/plain": [
       "<matplotlib.figure.Figure at 0xa98c1e4c>"
      ]
     },
     "metadata": {},
     "output_type": "display_data"
    }
   ],
   "source": [
    "col1 = 'age'\n",
    "col2 = 'educational-num'\n",
    "plt.style.use('ggplot')\n",
    "plt.figure(figsize=(15,5))\n",
    "plt.scatter(data[col1][data['income'] == '<=50K'],\n",
    "            data[col2][data['income'] == '<=50K'], \n",
    "            color='red',\n",
    "            alpha=0.75,\n",
    "            label='+')\n",
    "plt.scatter(data[col1][data['income'] == '>50K'],\n",
    "            data[col2][data['income'] == '>50K'], \n",
    "            color='blue',\n",
    "            alpha=0.75,\n",
    "            label='-')\n",
    "plt.xlabel(col1)\n",
    "plt.ylabel(col2)\n",
    "plt.legend(loc='best')"
   ]
  },
  {
   "cell_type": "code",
   "execution_count": 43,
   "metadata": {
    "collapsed": false
   },
   "outputs": [
    {
     "data": {
      "text/plain": [
       "array([ 2174,     0, 14084,  5178,  5013,  2407, 14344, 15024,  7688,\n",
       "        4064,  4386,  7298,  1409,  3674,  1055,  2050,  2176,   594,\n",
       "       20051,  6849,  4101,  8614,  3411,  2597, 25236,  4650,  2463,\n",
       "        3103, 10605,  2964,  3325,  2580,  3471,  4865, 99999,  6514,\n",
       "        1471,  2329,  2105,  2885, 10520,  2202,  2961, 27828,  6767,\n",
       "        2228,  1506, 13550,  2635,  5556,  4787,  3781,  3137,  3818,\n",
       "         914,   401,  2829,  2977,  4934,  2062,  2354,  3464,  5455,\n",
       "       15020,  1424,  3273, 22040,  4416, 10566,  4931,  7430, 34095,\n",
       "        6497,  3908,   114,  2346,  2907,  1151,  9386,  2414,  2290,\n",
       "        3418, 15831, 41310,  4508,  2538,  3456,  1848,  3887,  7896,\n",
       "        5721,  9562,  6418,  1455,  2036,  3942,  1831, 11678,  2936,\n",
       "        2993,  7443,  6360,  4687,  1797,  6723,  2009,  3432,  6097,\n",
       "        1639,  2653, 18481, 25124,  7978,   991,  1173,  2387,  5060,\n",
       "        1086,  1264,  7262,  1731], dtype=int64)"
      ]
     },
     "execution_count": 43,
     "metadata": {},
     "output_type": "execute_result"
    }
   ],
   "source": [
    "binary_columns = [c for c in categorical_columns if data[c].unique()]"
   ]
  },
  {
   "cell_type": "code",
   "execution_count": 47,
   "metadata": {
    "collapsed": false
   },
   "outputs": [],
   "source": [
    "data_describe = data.describe(include=[object])"
   ]
  },
  {
   "cell_type": "code",
   "execution_count": 49,
   "metadata": {
    "collapsed": false
   },
   "outputs": [
    {
     "name": "stdout",
     "output_type": "stream",
     "text": [
      "['gender', 'income'] ['workclass', 'education', 'marital-status', 'occupation', 'relationship', 'race', 'native-country']\n"
     ]
    }
   ],
   "source": [
    "binary_columns = [x for x in categorical_columns if data_describe[x]['unique'] == 2]\n",
    "nonbinary_columns = [x for x in categorical_columns if data_describe[x]['unique'] > 2]\n",
    "print binary_columns, nonbinary_columns"
   ]
  },
  {
   "cell_type": "code",
   "execution_count": 52,
   "metadata": {
    "collapsed": false
   },
   "outputs": [],
   "source": [
    "for x in binary_columns:\n",
    "    top = data_describe[x]['top']\n",
    "    top_items = data[x] == top\n",
    "    data.loc[top_items, x] = 0\n",
    "    data.loc[np.logical_not(top_items), x] = 1    "
   ]
  },
  {
   "cell_type": "code",
   "execution_count": 56,
   "metadata": {
    "collapsed": false
   },
   "outputs": [
    {
     "data": {
      "text/plain": [
       "Index([u'workclass_ Federal-gov', u'workclass_ Local-gov',\n",
       "       u'workclass_ Private', u'workclass_ Self-emp-inc',\n",
       "       u'workclass_ Self-emp-not-inc', u'workclass_ State-gov',\n",
       "       u'workclass_ Without-pay', u'education_ 10th', u'education_ 11th',\n",
       "       u'education_ 12th', u'education_ 1st-4th', u'education_ 5th-6th',\n",
       "       u'education_ 7th-8th', u'education_ 9th', u'education_ Assoc-acdm',\n",
       "       u'education_ Assoc-voc', u'education_ Bachelors',\n",
       "       u'education_ Doctorate', u'education_ HS-grad', u'education_ Masters',\n",
       "       u'education_ Preschool', u'education_ Prof-school',\n",
       "       u'education_ Some-college', u'marital-status_ Divorced',\n",
       "       u'marital-status_ Married-AF-spouse',\n",
       "       u'marital-status_ Married-civ-spouse',\n",
       "       u'marital-status_ Married-spouse-absent',\n",
       "       u'marital-status_ Never-married', u'marital-status_ Separated',\n",
       "       u'marital-status_ Widowed', u'occupation_ Adm-clerical',\n",
       "       u'occupation_ Armed-Forces', u'occupation_ Craft-repair',\n",
       "       u'occupation_ Exec-managerial', u'occupation_ Farming-fishing',\n",
       "       u'occupation_ Handlers-cleaners', u'occupation_ Machine-op-inspct',\n",
       "       u'occupation_ Other-service', u'occupation_ Priv-house-serv',\n",
       "       u'occupation_ Prof-specialty', u'occupation_ Protective-serv',\n",
       "       u'occupation_ Sales', u'occupation_ Tech-support',\n",
       "       u'occupation_ Transport-moving', u'relationship_ Husband',\n",
       "       u'relationship_ Not-in-family', u'relationship_ Other-relative',\n",
       "       u'relationship_ Own-child', u'relationship_ Unmarried',\n",
       "       u'relationship_ Wife', u'race_ Amer-Indian-Eskimo',\n",
       "       u'race_ Asian-Pac-Islander', u'race_ Black', u'race_ Other',\n",
       "       u'race_ White', u'native-country_ Cambodia', u'native-country_ Canada',\n",
       "       u'native-country_ China', u'native-country_ Columbia',\n",
       "       u'native-country_ Cuba', u'native-country_ Dominican-Republic',\n",
       "       u'native-country_ Ecuador', u'native-country_ El-Salvador',\n",
       "       u'native-country_ England', u'native-country_ France',\n",
       "       u'native-country_ Germany', u'native-country_ Greece',\n",
       "       u'native-country_ Guatemala', u'native-country_ Haiti',\n",
       "       u'native-country_ Holand-Netherlands', u'native-country_ Honduras',\n",
       "       u'native-country_ Hong', u'native-country_ Hungary',\n",
       "       u'native-country_ India', u'native-country_ Iran',\n",
       "       u'native-country_ Ireland', u'native-country_ Italy',\n",
       "       u'native-country_ Jamaica', u'native-country_ Japan',\n",
       "       u'native-country_ Laos', u'native-country_ Mexico',\n",
       "       u'native-country_ Nicaragua',\n",
       "       u'native-country_ Outlying-US(Guam-USVI-etc)', u'native-country_ Peru',\n",
       "       u'native-country_ Philippines', u'native-country_ Poland',\n",
       "       u'native-country_ Portugal', u'native-country_ Puerto-Rico',\n",
       "       u'native-country_ Scotland', u'native-country_ South',\n",
       "       u'native-country_ Taiwan', u'native-country_ Thailand',\n",
       "       u'native-country_ Trinadad&Tobago', u'native-country_ United-States',\n",
       "       u'native-country_ Vietnam', u'native-country_ Yugoslavia'],\n",
       "      dtype='object')"
      ]
     },
     "execution_count": 56,
     "metadata": {},
     "output_type": "execute_result"
    }
   ],
   "source": [
    "data_nonbinary = pd.get_dummies(data[nonbinary_columns])\n",
    "data_nonbinary.columns"
   ]
  },
  {
   "cell_type": "code",
   "execution_count": 57,
   "metadata": {
    "collapsed": false
   },
   "outputs": [
    {
     "data": {
      "text/html": [
       "<div>\n",
       "<table border=\"1\" class=\"dataframe\">\n",
       "  <thead>\n",
       "    <tr style=\"text-align: right;\">\n",
       "      <th></th>\n",
       "      <th>age</th>\n",
       "      <th>fnlwgt</th>\n",
       "      <th>educational-num</th>\n",
       "      <th>capital-gain</th>\n",
       "      <th>capital-loss</th>\n",
       "      <th>hours-per-week</th>\n",
       "    </tr>\n",
       "  </thead>\n",
       "  <tbody>\n",
       "    <tr>\n",
       "      <th>count</th>\n",
       "      <td>4.522200e+04</td>\n",
       "      <td>4.522200e+04</td>\n",
       "      <td>4.522200e+04</td>\n",
       "      <td>4.522200e+04</td>\n",
       "      <td>4.522200e+04</td>\n",
       "      <td>4.522200e+04</td>\n",
       "    </tr>\n",
       "    <tr>\n",
       "      <th>mean</th>\n",
       "      <td>-2.500592e-17</td>\n",
       "      <td>5.538571e-17</td>\n",
       "      <td>1.191722e-16</td>\n",
       "      <td>-7.913856e-18</td>\n",
       "      <td>8.273521e-18</td>\n",
       "      <td>2.315116e-16</td>\n",
       "    </tr>\n",
       "    <tr>\n",
       "      <th>std</th>\n",
       "      <td>1.000000e+00</td>\n",
       "      <td>1.000000e+00</td>\n",
       "      <td>1.000000e+00</td>\n",
       "      <td>1.000000e+00</td>\n",
       "      <td>1.000000e+00</td>\n",
       "      <td>1.000000e+00</td>\n",
       "    </tr>\n",
       "    <tr>\n",
       "      <th>min</th>\n",
       "      <td>-1.630213e+00</td>\n",
       "      <td>-1.668346e+00</td>\n",
       "      <td>-3.571831e+00</td>\n",
       "      <td>-1.467316e-01</td>\n",
       "      <td>-2.187778e-01</td>\n",
       "      <td>-3.326087e+00</td>\n",
       "    </tr>\n",
       "    <tr>\n",
       "      <th>25%</th>\n",
       "      <td>-7.980061e-01</td>\n",
       "      <td>-6.848451e-01</td>\n",
       "      <td>-4.381168e-01</td>\n",
       "      <td>-1.467316e-01</td>\n",
       "      <td>-2.187778e-01</td>\n",
       "      <td>-7.811920e-02</td>\n",
       "    </tr>\n",
       "    <tr>\n",
       "      <th>50%</th>\n",
       "      <td>-1.171097e-01</td>\n",
       "      <td>-1.080918e-01</td>\n",
       "      <td>-4.640249e-02</td>\n",
       "      <td>-1.467316e-01</td>\n",
       "      <td>-2.187778e-01</td>\n",
       "      <td>-7.811920e-02</td>\n",
       "    </tr>\n",
       "    <tr>\n",
       "      <th>75%</th>\n",
       "      <td>6.394418e-01</td>\n",
       "      <td>4.561874e-01</td>\n",
       "      <td>1.128740e+00</td>\n",
       "      <td>-1.467316e-01</td>\n",
       "      <td>-2.187778e-01</td>\n",
       "      <td>3.382869e-01</td>\n",
       "    </tr>\n",
       "    <tr>\n",
       "      <th>max</th>\n",
       "      <td>3.892613e+00</td>\n",
       "      <td>1.231234e+01</td>\n",
       "      <td>2.303883e+00</td>\n",
       "      <td>1.317505e+01</td>\n",
       "      <td>1.053794e+01</td>\n",
       "      <td>4.835473e+00</td>\n",
       "    </tr>\n",
       "  </tbody>\n",
       "</table>\n",
       "</div>"
      ],
      "text/plain": [
       "                age        fnlwgt  educational-num  capital-gain  \\\n",
       "count  4.522200e+04  4.522200e+04     4.522200e+04  4.522200e+04   \n",
       "mean  -2.500592e-17  5.538571e-17     1.191722e-16 -7.913856e-18   \n",
       "std    1.000000e+00  1.000000e+00     1.000000e+00  1.000000e+00   \n",
       "min   -1.630213e+00 -1.668346e+00    -3.571831e+00 -1.467316e-01   \n",
       "25%   -7.980061e-01 -6.848451e-01    -4.381168e-01 -1.467316e-01   \n",
       "50%   -1.171097e-01 -1.080918e-01    -4.640249e-02 -1.467316e-01   \n",
       "75%    6.394418e-01  4.561874e-01     1.128740e+00 -1.467316e-01   \n",
       "max    3.892613e+00  1.231234e+01     2.303883e+00  1.317505e+01   \n",
       "\n",
       "       capital-loss  hours-per-week  \n",
       "count  4.522200e+04    4.522200e+04  \n",
       "mean   8.273521e-18    2.315116e-16  \n",
       "std    1.000000e+00    1.000000e+00  \n",
       "min   -2.187778e-01   -3.326087e+00  \n",
       "25%   -2.187778e-01   -7.811920e-02  \n",
       "50%   -2.187778e-01   -7.811920e-02  \n",
       "75%   -2.187778e-01    3.382869e-01  \n",
       "max    1.053794e+01    4.835473e+00  "
      ]
     },
     "execution_count": 57,
     "metadata": {},
     "output_type": "execute_result"
    }
   ],
   "source": [
    "data_numerical = data[numerical_columns]\n",
    "data_numerical = (data_numerical - data_numerical.mean()) / data_numerical.std()\n",
    "data_numerical.describe()"
   ]
  },
  {
   "cell_type": "code",
   "execution_count": 59,
   "metadata": {
    "collapsed": true
   },
   "outputs": [],
   "source": [
    "data = pd.concat((data_numerical, data[binary_columns], data_nonbinary), axis=1)"
   ]
  },
  {
   "cell_type": "code",
   "execution_count": 61,
   "metadata": {
    "collapsed": false
   },
   "outputs": [
    {
     "name": "stdout",
     "output_type": "stream",
     "text": [
      "(45222, 104)\n",
      "Index([u'age', u'fnlwgt', u'educational-num', u'capital-gain', u'capital-loss',\n",
      "       u'hours-per-week', u'gender', u'income', u'workclass_ Federal-gov',\n",
      "       u'workclass_ Local-gov',\n",
      "       ...\n",
      "       u'native-country_ Portugal', u'native-country_ Puerto-Rico',\n",
      "       u'native-country_ Scotland', u'native-country_ South',\n",
      "       u'native-country_ Taiwan', u'native-country_ Thailand',\n",
      "       u'native-country_ Trinadad&Tobago', u'native-country_ United-States',\n",
      "       u'native-country_ Vietnam', u'native-country_ Yugoslavia'],\n",
      "      dtype='object', length=104)\n"
     ]
    }
   ],
   "source": [
    "data = pd.DataFrame(data, dtype=float)\n",
    "print data.shape\n",
    "print data.columns"
   ]
  },
  {
   "cell_type": "code",
   "execution_count": 62,
   "metadata": {
    "collapsed": false
   },
   "outputs": [
    {
     "name": "stdout",
     "output_type": "stream",
     "text": [
      "Index([u'age', u'fnlwgt', u'educational-num', u'capital-gain', u'capital-loss',\n",
      "       u'hours-per-week', u'gender', u'workclass_ Federal-gov',\n",
      "       u'workclass_ Local-gov', u'workclass_ Private',\n",
      "       ...\n",
      "       u'native-country_ Portugal', u'native-country_ Puerto-Rico',\n",
      "       u'native-country_ Scotland', u'native-country_ South',\n",
      "       u'native-country_ Taiwan', u'native-country_ Thailand',\n",
      "       u'native-country_ Trinadad&Tobago', u'native-country_ United-States',\n",
      "       u'native-country_ Vietnam', u'native-country_ Yugoslavia'],\n",
      "      dtype='object', length=103)\n"
     ]
    }
   ],
   "source": [
    "X = data.drop('income', axis=1)\n",
    "y = data['income']\n",
    "features_name = X.columns\n",
    "print features_name"
   ]
  },
  {
   "cell_type": "code",
   "execution_count": 63,
   "metadata": {
    "collapsed": false
   },
   "outputs": [
    {
     "name": "stdout",
     "output_type": "stream",
     "text": [
      "(45222, 103)\n",
      "(45222,)\n"
     ]
    }
   ],
   "source": [
    "print X.shape\n",
    "print y.shape"
   ]
  },
  {
   "cell_type": "code",
   "execution_count": 64,
   "metadata": {
    "collapsed": true
   },
   "outputs": [],
   "source": [
    "from sklearn.cross_validation import train_test_split"
   ]
  },
  {
   "cell_type": "code",
   "execution_count": 65,
   "metadata": {
    "collapsed": true
   },
   "outputs": [],
   "source": [
    "X_train, X_test, y_train, y_test = train_test_split(X, y, test_size=0.3, random_state=11)"
   ]
  },
  {
   "cell_type": "code",
   "execution_count": 66,
   "metadata": {
    "collapsed": false
   },
   "outputs": [
    {
     "name": "stdout",
     "output_type": "stream",
     "text": [
      "(31655, 103)\n",
      "(13567, 103)\n"
     ]
    }
   ],
   "source": [
    "print X_train.shape\n",
    "print X_test.shape"
   ]
  },
  {
   "cell_type": "code",
   "execution_count": 67,
   "metadata": {
    "collapsed": true
   },
   "outputs": [],
   "source": [
    "from sklearn.neighbors import KNeighborsClassifier"
   ]
  },
  {
   "cell_type": "code",
   "execution_count": 68,
   "metadata": {
    "collapsed": false
   },
   "outputs": [
    {
     "data": {
      "text/plain": [
       "KNeighborsClassifier(algorithm='auto', leaf_size=30, metric='minkowski',\n",
       "           metric_params=None, n_jobs=1, n_neighbors=5, p=2,\n",
       "           weights='uniform')"
      ]
     },
     "execution_count": 68,
     "metadata": {},
     "output_type": "execute_result"
    }
   ],
   "source": [
    "knn = KNeighborsClassifier()\n",
    "knn.fit(X_train, y_train)"
   ]
  },
  {
   "cell_type": "code",
   "execution_count": 69,
   "metadata": {
    "collapsed": true
   },
   "outputs": [],
   "source": [
    "y_train_predict = knn.predict(X_train)\n",
    "y_test_predict = knn.predict(X_test)"
   ]
  },
  {
   "cell_type": "code",
   "execution_count": 71,
   "metadata": {
    "collapsed": false
   },
   "outputs": [
    {
     "name": "stdout",
     "output_type": "stream",
     "text": [
      "0.878755330911 0.829512788384\n"
     ]
    }
   ],
   "source": [
    "err_train = np.mean(y_train_predict == y_train)\n",
    "err_test = np.mean(y_test_predict == y_test)\n",
    "print err_train, err_test"
   ]
  },
  {
   "cell_type": "code",
   "execution_count": 72,
   "metadata": {
    "collapsed": false
   },
   "outputs": [
    {
     "data": {
      "text/plain": [
       "GridSearchCV(cv=None, error_score='raise',\n",
       "       estimator=KNeighborsClassifier(algorithm='auto', leaf_size=30, metric='minkowski',\n",
       "           metric_params=None, n_jobs=1, n_neighbors=5, p=2,\n",
       "           weights='uniform'),\n",
       "       fit_params={}, iid=True, n_jobs=1,\n",
       "       param_grid={'n_neighbors': [1, 3, 5, 7, 10, 15]},\n",
       "       pre_dispatch='2*n_jobs', refit=True, scoring=None, verbose=0)"
      ]
     },
     "execution_count": 72,
     "metadata": {},
     "output_type": "execute_result"
    }
   ],
   "source": [
    "from sklearn.grid_search import GridSearchCV\n",
    "n_neighbors = [1, 3, 5, 7, 10, 15]\n",
    "knn = KNeighborsClassifier()\n",
    "grid = GridSearchCV(knn, param_grid={'n_neighbors':n_neighbors})\n",
    "grid.fit(X_train, y_train)"
   ]
  },
  {
   "cell_type": "code",
   "execution_count": 74,
   "metadata": {
    "collapsed": false
   },
   "outputs": [
    {
     "name": "stdout",
     "output_type": "stream",
     "text": [
      "0.164302637814 15\n"
     ]
    }
   ],
   "source": [
    "best_cv_err = 1 - grid.best_score_\n",
    "best_n_neighbors = grid.best_estimator_.n_neighbors\n",
    "print best_cv_err, best_n_neighbors"
   ]
  },
  {
   "cell_type": "code",
   "execution_count": 81,
   "metadata": {
    "collapsed": false
   },
   "outputs": [
    {
     "name": "stdout",
     "output_type": "stream",
     "text": [
      "0.857052598326 0.838800029483\n"
     ]
    }
   ],
   "source": [
    "knn = KNeighborsClassifier(n_neighbors=best_n_neighbors)\n",
    "knn.fit(X_train, y_train)"
   ]
  },
  {
   "cell_type": "code",
   "execution_count": 82,
   "metadata": {
    "collapsed": false
   },
   "outputs": [
    {
     "name": "stdout",
     "output_type": "stream",
     "text": [
      "0.142947401674 0.161199970517\n"
     ]
    }
   ],
   "source": [
    "err_train = np.mean(y_train != knn.predict(X_train))\n",
    "err_test = np.mean(y_test != knn.predict(X_test))\n",
    "print err_train, err_test"
   ]
  },
  {
   "cell_type": "code",
   "execution_count": 83,
   "metadata": {
    "collapsed": false
   },
   "outputs": [
    {
     "data": {
      "text/plain": [
       "'minkowski'"
      ]
     },
     "execution_count": 83,
     "metadata": {},
     "output_type": "execute_result"
    }
   ],
   "source": [
    "knn.metric"
   ]
  },
  {
   "cell_type": "code",
   "execution_count": null,
   "metadata": {
    "collapsed": true
   },
   "outputs": [],
   "source": []
  }
 ],
 "metadata": {
  "kernelspec": {
   "display_name": "Python 2",
   "language": "python",
   "name": "python2"
  },
  "language_info": {
   "codemirror_mode": {
    "name": "ipython",
    "version": 2
   },
   "file_extension": ".py",
   "mimetype": "text/x-python",
   "name": "python",
   "nbconvert_exporter": "python",
   "pygments_lexer": "ipython2",
   "version": "2.7.6"
  }
 },
 "nbformat": 4,
 "nbformat_minor": 1
}
